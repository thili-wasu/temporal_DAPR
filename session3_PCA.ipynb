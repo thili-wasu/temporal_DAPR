{
  "metadata": {
    "kernelspec": {
      "display_name": "Python 3",
      "language": "python",
      "name": "python3"
    },
    "language_info": {
      "name": "python",
      "version": "3.6.6",
      "mimetype": "text/x-python",
      "codemirror_mode": {
        "name": "ipython",
        "version": 3
      },
      "pygments_lexer": "ipython3",
      "nbconvert_exporter": "python",
      "file_extension": ".py"
    },
    "kaggle": {
      "accelerator": "none",
      "dataSources": [
        {
          "sourceId": 109227,
          "sourceType": "datasetVersion",
          "datasetId": 56807
        }
      ],
      "dockerImageVersionId": 25114,
      "isInternetEnabled": false,
      "language": "python",
      "sourceType": "notebook",
      "isGpuEnabled": false
    },
    "colab": {
      "provenance": [],
      "include_colab_link": true
    }
  },
  "nbformat_minor": 0,
  "nbformat": 4,
  "cells": [
    {
      "cell_type": "markdown",
      "metadata": {
        "id": "view-in-github",
        "colab_type": "text"
      },
      "source": [
        "<a href=\"https://colab.research.google.com/github/xtianu/temporal_DAPR/blob/main/session3_PCA.ipynb\" target=\"_parent\"><img src=\"https://colab.research.google.com/assets/colab-badge.svg\" alt=\"Open In Colab\"/></a>"
      ]
    },
    {
      "cell_type": "markdown",
      "source": [
        "**Introduction**\n",
        "\n",
        "Principal component analysis(PCA) is considered as one of the most popular technique for linearly independent feature extractiond and dimensionality reduction. We sometimes have machine learning problems in which input features have very high dimensions, which complicates machine learning, increasing processing and reducing accuracy.\n",
        "So, our first task is to reduce high dimensional input feature space, to a lower dimensional space which is more effective in machine learning task.\n",
        "So PCA has several benefits including data compression, improved visualization, increasing performance, simplifying machine learning models etc.\n",
        "\n",
        "It is important to note that it is not only possible to reduce dimensionality of input feature space using PCA while retaining most of the variability of the data, but it is also possible to reconstruct the the original data through back projection techniques.\n"
      ],
      "metadata": {
        "_uuid": "7c032d2aaf45d303dc04a0c25d49ca6873f4e2a0",
        "id": "BYTTOAjEoELd"
      }
    },
    {
      "cell_type": "code",
      "source": [
        "# This Python 3 environment comes with many helpful analytics libraries installed\n",
        "# It is defined by the kaggle/python docker image: https://github.com/kaggle/docker-python\n",
        "# For example, here's several helpful packages to load in\n",
        "\n",
        "import numpy as np # linear algebra\n",
        "import pandas as pd # data processing, CSV file I/O (e.g. pd.read_csv)\n",
        "\n",
        "# Input data files are available in the \"../input/\" directory.\n",
        "# For example, running this (by clicking run or pressing Shift+Enter) will list the files in the input directory\n",
        "\n",
        "import os\n",
        "print(os.listdir(\"../input\"))\n",
        "\n",
        "# Any results you write to the current directory are saved as output."
      ],
      "metadata": {
        "_uuid": "8f2839f25d086af736a60e9eeb907d3b93b6e0e5",
        "_cell_guid": "b1076dfc-b9ad-4769-8c92-a6c4dae69d19",
        "trusted": true,
        "id": "zhgftFHLoELe"
      },
      "execution_count": null,
      "outputs": []
    },
    {
      "cell_type": "markdown",
      "source": [
        "**Importance of Feature Scaling**\n",
        "\n",
        "Feature scaling through standardization (or Z-score normalization) can be an important preprocessing step for many machine learning algorithms. Standardization involves rescaling the features such that they have the properties of a standard normal distribution with a mean of zero and a standard deviation of one.\n",
        "\n",
        "While many algorithms (such as SVM, K-nearest neighbors, and logistic regression) require features to be normalized, intuitively we can think of Principle Component Analysis (PCA) as being a prime example of when normalization is important. In PCA we are interested in the components that maximize the variance. If one component (e.g. human height) varies less than another (e.g. weight) because of their respective scales (meters vs. kilos), PCA might determine that the direction of maximal variance more closely corresponds with the ‘weight’ axis, if those features are not scaled. As a change in height of one meter can be considered much more important than the change in weight of one kilogram, this is clearly incorrect.\n",
        "Reference : [http://scikit-learn.org/stable/auto_examples/preprocessing/plot_scaling_importance.html]\n"
      ],
      "metadata": {
        "_uuid": "b1e7bea4eadd889f726cb17d500d3376634338c9",
        "id": "wV4fSnuKoELf"
      }
    },
    {
      "cell_type": "code",
      "source": [
        "from __future__ import print_function\n",
        "from sklearn.model_selection import train_test_split\n",
        "from sklearn.preprocessing import StandardScaler\n",
        "from sklearn.decomposition import PCA\n",
        "from sklearn.naive_bayes import GaussianNB\n",
        "from sklearn import metrics\n",
        "import matplotlib.pyplot as plt\n",
        "from sklearn.datasets import load_wine\n",
        "from sklearn.pipeline import make_pipeline\n",
        "print(__doc__)\n",
        "\n",
        "# Code source: Tyler Lanigan <tylerlanigan@gmail.com>\n",
        "#              Sebastian Raschka <mail@sebastianraschka.com>\n",
        "\n",
        "# License: BSD 3 clause\n",
        "\n",
        "RANDOM_STATE = 42\n",
        "FIG_SIZE = (10, 7)\n",
        "\n",
        "\n",
        "features, target = load_wine(return_X_y=True)\n",
        "\n",
        "# Make a train/test split using 30% test size\n",
        "X_train, X_test, y_train, y_test = train_test_split(features, target,\n",
        "                                                    test_size=0.30,\n",
        "                                                    random_state=RANDOM_STATE)\n",
        "\n",
        "# Fit to data and predict using pipelined GNB and PCA.\n",
        "unscaled_clf = make_pipeline(PCA(n_components=2), GaussianNB())\n",
        "unscaled_clf.fit(X_train, y_train)\n",
        "pred_test = unscaled_clf.predict(X_test)\n",
        "\n",
        "# Fit to data and predict using pipelined scaling, GNB and PCA.\n",
        "std_clf = make_pipeline(StandardScaler(), PCA(n_components=2), GaussianNB())\n",
        "std_clf.fit(X_train, y_train)\n",
        "pred_test_std = std_clf.predict(X_test)\n",
        "\n",
        "# Show prediction accuracies in scaled and unscaled data.\n",
        "print('\\nPrediction accuracy for the normal test dataset with PCA')\n",
        "print('{:.2%}\\n'.format(metrics.accuracy_score(y_test, pred_test)))\n",
        "\n",
        "print('\\nPrediction accuracy for the standardized test dataset with PCA')\n",
        "print('{:.2%}\\n'.format(metrics.accuracy_score(y_test, pred_test_std)))\n",
        "\n",
        "# Extract PCA from pipeline\n",
        "pca = unscaled_clf.named_steps['pca']\n",
        "pca_std = std_clf.named_steps['pca']\n",
        "\n",
        "# Show first principal components\n",
        "print('\\nPC 1 without scaling:\\n', pca.components_[0])\n",
        "print('\\nPC 1 with scaling:\\n', pca_std.components_[0])\n",
        "\n",
        "# Scale and use PCA on X_train data for visualization.\n",
        "scaler = std_clf.named_steps['standardscaler']\n",
        "X_train_std = pca_std.transform(scaler.transform(X_train))\n",
        "\n",
        "# visualize standardized vs. untouched dataset with PCA performed\n",
        "fig, (ax1, ax2) = plt.subplots(ncols=2, figsize=FIG_SIZE)\n",
        "\n",
        "\n",
        "for l, c, m in zip(range(0, 3), ('blue', 'red', 'green'), ('^', 's', 'o')):\n",
        "    ax1.scatter(X_train[y_train == l, 0], X_train[y_train == l, 1],\n",
        "                color=c,\n",
        "                label='class %s' % l,\n",
        "                alpha=0.5,\n",
        "                marker=m\n",
        "                )\n",
        "\n",
        "for l, c, m in zip(range(0, 3), ('blue', 'red', 'green'), ('^', 's', 'o')):\n",
        "    ax2.scatter(X_train_std[y_train == l, 0], X_train_std[y_train == l, 1],\n",
        "                color=c,\n",
        "                label='class %s' % l,\n",
        "                alpha=0.5,\n",
        "                marker=m\n",
        "                )\n",
        "\n",
        "ax1.set_title('Training dataset after PCA')\n",
        "ax2.set_title('Standardized training dataset after PCA')\n",
        "\n",
        "for ax in (ax1, ax2):\n",
        "    ax.set_xlabel('1st principal component')\n",
        "    ax.set_ylabel('2nd principal component')\n",
        "    ax.legend(loc='upper right')\n",
        "    ax.grid()\n",
        "\n",
        "plt.tight_layout()\n",
        "\n",
        "plt.show()"
      ],
      "metadata": {
        "_cell_guid": "79c7e3d0-c299-4dcb-8224-4455121ee9b0",
        "_uuid": "d629ff2d2480ee46fbb7e2d37f6b5fab8052498a",
        "trusted": true,
        "id": "avgeVP6koELf"
      },
      "execution_count": null,
      "outputs": []
    },
    {
      "cell_type": "markdown",
      "source": [
        "**Correlated Data in Nature**\n",
        "\n",
        "You are given an array grains giving the width and length of samples of grain. You suspect that width and length will be correlated. To confirm this, make a scatter plot of width vs length and measure their Pearson correlation."
      ],
      "metadata": {
        "_uuid": "27d4624388718f43267c627d3a6c4f190e3ae65d",
        "id": "g1bJXp0coELg"
      }
    },
    {
      "cell_type": "code",
      "source": [
        "# Perform the necessary imports\n",
        "import matplotlib.pyplot as plt\n",
        "from scipy.stats import pearsonr\n",
        "import pandas as pd\n",
        "\n",
        "# Reading grains data\n",
        "grains = pd.read_csv('../input/seeds-width-vs-length.csv')\n",
        "# Assign the 0th column of grains: width\n",
        "width = grains.iloc[:,0]\n",
        "\n",
        "# Assign the 1st column of grains: length\n",
        "length = grains.iloc[:,1]\n",
        "\n",
        "# Scatter plot width vs length\n",
        "plt.scatter(width, length)\n",
        "plt.xlabel('Width')\n",
        "plt.ylabel('Length')\n",
        "plt.axis('equal')\n",
        "plt.show()\n",
        "\n",
        "# Calculate the Pearson correlation\n",
        "correlation, pvalue = pearsonr(width,length)\n",
        "\n",
        "# Display the correlation\n",
        "print(correlation)\n"
      ],
      "metadata": {
        "_uuid": "11a13197163f1fe6c75c526631f5dfadec8241dc",
        "trusted": true,
        "id": "MJ49oV2ooELg"
      },
      "execution_count": null,
      "outputs": []
    },
    {
      "cell_type": "markdown",
      "source": [
        "**De-Correlating the Feature Measurements with PCA**\n",
        "\n",
        "You observed in the previous exercise that the width and length measurements of the grain are correlated.\n",
        "Now, you will use PCA to decorrelate these measurements, then plot the decorrelated points and measure their Pearson correlation.\n"
      ],
      "metadata": {
        "_uuid": "d8ff362e1d81caaecefb110f356b76e9be58916e",
        "id": "ryw-fso1oELh"
      }
    },
    {
      "cell_type": "code",
      "source": [
        "# Import PCA\n",
        "from sklearn.decomposition import PCA\n",
        "\n",
        "# Create PCA instance: model\n",
        "model = PCA()\n",
        "\n",
        "# Apply the fit_transform method of model to grains: pca_features\n",
        "pca_features = model.fit_transform(grains)\n",
        "\n",
        "# Assign 0th column of pca_features: xs\n",
        "xs = pca_features[:,0]\n",
        "\n",
        "# Assign 1st column of pca_features: ys\n",
        "ys = pca_features[:,1]\n",
        "\n",
        "# Scatter plot xs vs ys\n",
        "plt.scatter(xs, ys)\n",
        "plt.xlabel('xs')\n",
        "plt.ylabel('ys')\n",
        "plt.axis('equal')\n",
        "plt.show()\n",
        "\n",
        "# Calculate the Pearson correlation of xs and ys\n",
        "correlation, pvalue = pearsonr(xs, ys)\n",
        "\n",
        "# Display the correlation\n",
        "print(\"Correlation : \",correlation)\n"
      ],
      "metadata": {
        "_uuid": "e83e66526222f7b07c1c6eec9141321115013b08",
        "trusted": true,
        "id": "f85WXiVGoELh"
      },
      "execution_count": null,
      "outputs": []
    },
    {
      "cell_type": "markdown",
      "source": [
        "**Analyzing First Principal Component**\n",
        "\n",
        "The first principal component of the data is the direction in which the data varies the most. In this exercise, your job is to use PCA to find the first principal component of the length and width measurements of the grain samples, and represent it as an arrow on the scatter plot.\n",
        "\n",
        "The array grains gives the length and width of the grain samples. PyPlot (plt) and PCA have already been imported for you.\n"
      ],
      "metadata": {
        "_uuid": "e48bdf87418180c543e880bd23d27a17461e5b95",
        "id": "FabY5CtZoELi"
      }
    },
    {
      "cell_type": "code",
      "source": [
        "# Make a scatter plot of the untransformed points\n",
        "plt.scatter(grains.iloc[:,0], grains.iloc[:,1])\n",
        "\n",
        "# Create a PCA instance: model\n",
        "model = PCA()\n",
        "\n",
        "# Fit model to points\n",
        "model.fit(grains)\n",
        "\n",
        "# Get the mean of the grain samples: mean\n",
        "mean = model.mean_\n",
        "\n",
        "# Get the first principal component: first_pc\n",
        "first_pc = model.components_[0,:]\n",
        "\n",
        "# Plot first_pc as an arrow, starting at mean\n",
        "plt.arrow(mean[0], mean[1], first_pc[0], first_pc[1], color='red', width=0.01)\n",
        "\n",
        "# Keep axes on same scale\n",
        "plt.axis('equal')\n",
        "plt.xlabel('First Principal Component 1')\n",
        "plt.ylabel('First Principal Component 2')\n",
        "plt.show()\n"
      ],
      "metadata": {
        "_uuid": "04776b3aeacaa9c2d08428670f90e8f18962f67b",
        "scrolled": true,
        "trusted": true,
        "id": "YwFS3i-BoELi"
      },
      "execution_count": null,
      "outputs": []
    },
    {
      "cell_type": "markdown",
      "source": [
        "**Feature Selection by Analyzing Variance of the PCA Features**\n",
        "\n",
        "The seed dataset is multi-dimensional. But what is its intrinsic dimension? Make a plot of the variances of the PCA features to find out. As before, samples is a 2D array, where each row represents a crop. You'll need to standardize the features first.\n"
      ],
      "metadata": {
        "_uuid": "d4d297aaf5afb52c2ed48c0b5771ada95d68cf1b",
        "id": "2FZk-raNoELj"
      }
    },
    {
      "cell_type": "code",
      "source": [
        "# Perform the necessary imports\n",
        "from sklearn.decomposition import PCA\n",
        "from sklearn.preprocessing import StandardScaler\n",
        "from sklearn.pipeline import make_pipeline\n",
        "import matplotlib.pyplot as plt\n",
        "\n",
        "\n",
        "# Reading grains data\n",
        "grains = pd.read_csv('../input/seeds.csv')\n",
        "samples = grains.iloc[:,1:]\n",
        "print(\"Samples Info \",samples.info())\n",
        "# Preprocessing : Changing type of last column from int to float\n",
        "s1=samples.iloc[:,-1]\n",
        "s1=s1.astype(float)\n",
        "samples.iloc[:,-1] = s1\n",
        "print(\"Samples Info Updated \",samples.info())\n",
        "# Create scaler: scaler\n",
        "scaler = StandardScaler()\n",
        "\n",
        "# Create a PCA instance: pca\n",
        "pca = PCA()\n",
        "\n",
        "# Create pipeline: pipeline\n",
        "pipeline = make_pipeline(scaler,pca)\n",
        "\n",
        "# Fit the pipeline to 'samples'\n",
        "pipeline.fit(samples)\n",
        "\n",
        "# Plot the explained variances\n",
        "features = range(pca.n_components_)\n",
        "plt.bar(features, pca.explained_variance_)\n",
        "plt.xlabel('PCA feature')\n",
        "plt.ylabel('Variance')\n",
        "plt.xticks(features)\n",
        "plt.show()\n"
      ],
      "metadata": {
        "_uuid": "15613a7e4b6ccebf8841f3647c4efaf15ca769a4",
        "trusted": true,
        "id": "F-ByzsanoELj"
      },
      "execution_count": null,
      "outputs": []
    },
    {
      "cell_type": "markdown",
      "source": [
        "**Dimensionsionality Reduction of the Seed Measurements**\n",
        "\n",
        "In a previous exercise, you saw that 4 was a reasonable choice for the \"intrinsic dimension\" of the seed measurements. Now use PCA for dimensionality reduction of the seed measurements, retaining only the 4 most important components.\n"
      ],
      "metadata": {
        "_uuid": "ecda08442a2e4b0e1cc48192317b3728dd9ea89e",
        "id": "SHFoCnGVoELj"
      }
    },
    {
      "cell_type": "code",
      "source": [
        "# Import PCA\n",
        "from sklearn.decomposition import PCA\n",
        "from sklearn.preprocessing import StandardScaler\n",
        "\n",
        "# scaled samples\n",
        "scaler = StandardScaler()\n",
        "scaled_samples = scaler.fit_transform(samples)\n",
        "print('Scaled Samples \\n',scaled_samples[1:5,:])\n",
        "\n",
        "# Create a PCA model with 2 components: pca\n",
        "pca = PCA(n_components=2)\n",
        "\n",
        "# Fit the PCA instance to the scaled samples\n",
        "pca.fit(scaled_samples)\n",
        "\n",
        "# Transform the scaled samples: pca_features\n",
        "pca_features = pca.transform(scaled_samples)\n",
        "\n",
        "# Print the shape of pca_features\n",
        "print(\"PCA Features Shape \\n\",pca_features.shape)\n",
        "\n",
        "print(\"PCA Features \\n\", pca_features[1:10,:])\n"
      ],
      "metadata": {
        "_uuid": "ef60359d1b3081aef89b8d1ca5a9755059b7e0f3",
        "trusted": true,
        "id": "5OTbKKtnoELj"
      },
      "execution_count": null,
      "outputs": []
    },
    {
      "cell_type": "markdown",
      "source": [
        "**Conclusion**\n",
        "\n",
        "Here, I have shared several examples of PCA for dimensionality reduction and improving performance of machine learning algorithms.   While PCA does improve performance in many cases, but it is no silver bullet as pointed out by Andrew Ng, \"Don't assume you need to do PCA. Try your full machine learning algorithm without PCA first. Then use PCA if you find that you need it.\"\n",
        "Note : Some of the code examples have been taken from https://www.datacamp.com/home\n"
      ],
      "metadata": {
        "_uuid": "8c140812116d8a48217cf72d0f4920650beded40",
        "id": "VlGOJfgXoELk"
      }
    },
    {
      "cell_type": "markdown",
      "source": [
        "### Please Upvote and Provide Feedback/Comments"
      ],
      "metadata": {
        "id": "fSUzbQ4LoELk"
      }
    }
  ]
}